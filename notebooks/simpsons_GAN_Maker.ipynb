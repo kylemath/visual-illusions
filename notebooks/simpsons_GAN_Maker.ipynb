{
  "nbformat": 4,
  "nbformat_minor": 0,
  "metadata": {
    "colab": {
      "name": "simpsons GAN Maker.ipynb",
      "version": "0.3.2",
      "provenance": [],
      "collapsed_sections": [],
      "include_colab_link": true
    },
    "kernelspec": {
      "name": "python2",
      "display_name": "Python 2"
    },
    "accelerator": "GPU"
  },
  "cells": [
    {
      "cell_type": "markdown",
      "metadata": {
        "id": "view-in-github",
        "colab_type": "text"
      },
      "source": [
        "<a href=\"https://colab.research.google.com/github/kylemath/visual-illusions/blob/master/notebooks/simpsons_GAN_Maker.ipynb\" target=\"_parent\"><img src=\"https://colab.research.google.com/assets/colab-badge.svg\" alt=\"Open In Colab\"/></a>"
      ]
    },
    {
      "metadata": {
        "id": "n9cVsyN3c6HY",
        "colab_type": "text"
      },
      "cell_type": "markdown",
      "source": [
        "Download .mp4 from youtube video and strip out frames every n ms"
      ]
    },
    {
      "metadata": {
        "id": "499UbHVAc5ie",
        "colab_type": "code",
        "colab": {}
      },
      "cell_type": "code",
      "source": [
        "# create a folder to store extracted images\n",
        "import os\n",
        "folder = 'test'  \n",
        "#os.mkdir(folder)\n",
        "# use opencv to do the job\n",
        "import cv2\n",
        "print(cv2.__version__)  # my version is 3.1.0\n",
        "vidcap = cv2.VideoCapture('test_video.mp4')\n",
        "count = 0\n",
        "while True:\n",
        "    vidcap.set(cv2.CAP_PROP_POS_MSEC,(count*500))    # added this line \n",
        "    success,image = vidcap.read()\n",
        "    if not success:\n",
        "        break\n",
        "    cv2.imwrite(os.path.join(folder,\"frame{:d}.jpg\".format(count)), image)     # save frame as JPEG file\n",
        "    count += 1\n",
        "print(\"{} images are extacted in {}.\".format(count,folder))"
      ],
      "execution_count": 0,
      "outputs": []
    },
    {
      "metadata": {
        "id": "gw-HdupozPl8",
        "colab_type": "text"
      },
      "cell_type": "markdown",
      "source": [
        "Pre-process images for gan"
      ]
    },
    {
      "metadata": {
        "id": "5L4nX9gBTCV-",
        "colab_type": "code",
        "colab": {}
      },
      "cell_type": "code",
      "source": [
        "#!git clone https://github.com/genekogan/ml4a-guides"
      ],
      "execution_count": 0,
      "outputs": []
    },
    {
      "metadata": {
        "id": "F3ElHq2YqxEz",
        "colab_type": "code",
        "colab": {}
      },
      "cell_type": "code",
      "source": [
        "rm /Users/kylemathewson/videopic/simpsons3/.DS_Store\n",
        "python3 dataset_utils.py --input_src /Users/kylemathewson/videopic/simpsons3 --shuffle --output_dir /Users/kylemathewson/videopic/3out --w 128 --h 128 --centered --action none --save_ext jpg --save_mode output_only\n",
        "\n",
        "rm /Users/kylemathewson/videopic/simpsons4/.DS_Store\n",
        "python3 dataset_utils.py --input_src /Users/kylemathewson/videopic/simpsons4 --shuffle --output_dir /Users/kylemathewson/videopic/4out --w 128 --h 128 --centered --action none --save_ext jpg --save_mode output_only\n",
        "\n",
        "rm /Users/kylemathewson/videopic/simpsons5/.DS_Store\n",
        "python3 dataset_utils.py --input_src /Users/kylemathewson/videopic/simpsons5 --shuffle --output_dir /Users/kylemathewson/videopic/5out --w 128 --h 128 --centered --action none --save_ext jpg --save_mode output_only\n",
        "\n",
        "rm /Users/kylemathewson/videopic/simpsons6/.DS_Store\n",
        "python3 dataset_utils.py --input_src /Users/kylemathewson/videopic/simpsons6 --shuffle --output_dir /Users/kylemathewson/videopic/6out --w 128 --h 128 --centered --action none --save_ext jpg --save_mode output_only\n"
      ],
      "execution_count": 0,
      "outputs": []
    },
    {
      "metadata": {
        "id": "lsdIQm1wBIdw",
        "colab_type": "text"
      },
      "cell_type": "markdown",
      "source": [
        "now zip up the files, put in google drive pics folder, then unzip into archive and rename"
      ]
    },
    {
      "metadata": {
        "id": "AVOIVLl1zWY6",
        "colab_type": "text"
      },
      "cell_type": "markdown",
      "source": [
        "Install GAN script"
      ]
    },
    {
      "metadata": {
        "id": "REuKAVgQSfq4",
        "colab_type": "code",
        "outputId": "9a10a8d4-7ab7-4caf-84b2-cc4b444a34b2",
        "colab": {
          "base_uri": "https://localhost:8080/",
          "height": 119
        }
      },
      "cell_type": "code",
      "source": [
        "!git clone https://github.com/carpedm20/DCGAN-tensorflow\n",
        "%cd DCGAN-tensorflow\n"
      ],
      "execution_count": 0,
      "outputs": [
        {
          "output_type": "stream",
          "text": [
            "Cloning into 'DCGAN-tensorflow'...\n",
            "remote: Enumerating objects: 1087, done.\u001b[K\n",
            "remote: Total 1087 (delta 0), reused 0 (delta 0), pack-reused 1087\u001b[K\n",
            "Receiving objects: 100% (1087/1087), 77.96 MiB | 24.66 MiB/s, done.\n",
            "Resolving deltas: 100% (613/613), done.\n",
            "/content/DCGAN-tensorflow\n"
          ],
          "name": "stdout"
        }
      ]
    },
    {
      "metadata": {
        "id": "R0Yx7Ss0zZD-",
        "colab_type": "text"
      },
      "cell_type": "markdown",
      "source": [
        "mount your google drive to load and save pics"
      ]
    },
    {
      "metadata": {
        "id": "TU7xd4O0Svbu",
        "colab_type": "code",
        "outputId": "3f9f5730-ba76-456a-a8fa-c0bc8c4aed1b",
        "colab": {
          "base_uri": "https://localhost:8080/",
          "height": 122
        }
      },
      "cell_type": "code",
      "source": [
        "#mount google drive to load own images, follow link and get code and paste in below\n",
        "from google.colab import drive\n",
        "drive.mount('/content/gdrive', force_remount=True)\n",
        "path = \"/content/gdrive/My Drive/pics/\" #save images here"
      ],
      "execution_count": 0,
      "outputs": [
        {
          "output_type": "stream",
          "text": [
            "Go to this URL in a browser: https://accounts.google.com/o/oauth2/auth?client_id=947318989803-6bn6qk8qdgf4n4g3pfee6491hc0brc4i.apps.googleusercontent.com&redirect_uri=urn%3Aietf%3Awg%3Aoauth%3A2.0%3Aoob&scope=email%20https%3A%2F%2Fwww.googleapis.com%2Fauth%2Fdocs.test%20https%3A%2F%2Fwww.googleapis.com%2Fauth%2Fdrive%20https%3A%2F%2Fwww.googleapis.com%2Fauth%2Fdrive.photos.readonly%20https%3A%2F%2Fwww.googleapis.com%2Fauth%2Fpeopleapi.readonly&response_type=code\n",
            "\n",
            "Enter your authorization code:\n",
            "··········\n",
            "Mounted at /content/gdrive\n"
          ],
          "name": "stdout"
        }
      ]
    },
    {
      "metadata": {
        "id": "jlaAnBnizdCK",
        "colab_type": "text"
      },
      "cell_type": "markdown",
      "source": [
        "to save images"
      ]
    },
    {
      "metadata": {
        "id": "LhzQO-GXZdIk",
        "colab_type": "code",
        "colab": {}
      },
      "cell_type": "code",
      "source": [
        "%mkdir samples\n",
        "\n"
      ],
      "execution_count": 0,
      "outputs": []
    },
    {
      "metadata": {
        "id": "nrpNPkEg6Dn7",
        "colab_type": "text"
      },
      "cell_type": "markdown",
      "source": [
        "Train the model in 5 sets of 25 epochs\n",
        "\n",
        "prn2 - is the old reddit and google images\n",
        "\n",
        "prn3 - are frames from pornhub compilation video "
      ]
    },
    {
      "metadata": {
        "id": "0c3VxP30ek4H",
        "colab_type": "code",
        "colab": {}
      },
      "cell_type": "code",
      "source": [
        "h = 512\n",
        "w = 512\n",
        "\n",
        "for i_set in range(100):\n",
        "  !python main.py --dataset prn3 --data_dir /content/gdrive/My\\ Drive/pics --input_height 128 --output_height 128 --checkpoint_dir /content/gdrive/My\\ Drive/pics --sample_dir /content/gdrive/My\\ Drive/pics --epoch 5 --train\n",
        "  for i in range(3):\n",
        "    img0 = load_image(\"samples/test_arange_\" + str(i) + \".png\",h, w)\n",
        "    display_image(img0)\n",
        "\n",
        "  \n",
        "  \n",
        "  "
      ],
      "execution_count": 0,
      "outputs": []
    },
    {
      "metadata": {
        "id": "LLFmOOpazgbs",
        "colab_type": "text"
      },
      "cell_type": "markdown",
      "source": [
        "Train the model (saves checkpoints)"
      ]
    },
    {
      "metadata": {
        "id": "YBJOxRFATUOt",
        "colab_type": "code",
        "colab": {}
      },
      "cell_type": "code",
      "source": [
        "!python main.py --dataset prn2 --data_dir /content/gdrive/My\\ Drive/pics --input_height 128 --output_height 128 --checkpoint_dir /content/gdrive/My\\ Drive/pics --sample_dir /content/gdrive/My\\ Drive/pics --epoch 500 --train"
      ],
      "execution_count": 0,
      "outputs": []
    },
    {
      "metadata": {
        "id": "WXoXVn8-zlQH",
        "colab_type": "text"
      },
      "cell_type": "markdown",
      "source": [
        "to only generate:"
      ]
    },
    {
      "metadata": {
        "id": "Wal6gxNkTXZX",
        "colab_type": "code",
        "colab": {}
      },
      "cell_type": "code",
      "source": [
        "!python main.py --dataset prn2 --data_dir /content/gdrive/My\\ Drive/pics --input_height 128 --output_height 128 --checkpoint_dir /content/gdrive/My\\ Drive/pics --sample_dir /content/gdrive/My\\ Drive/pics --epoch 1 "
      ],
      "execution_count": 0,
      "outputs": []
    },
    {
      "metadata": {
        "id": "se0DXChuzonO",
        "colab_type": "text"
      },
      "cell_type": "markdown",
      "source": [
        "Functions to display images"
      ]
    },
    {
      "metadata": {
        "id": "fmahUrBhdKqP",
        "colab_type": "code",
        "colab": {}
      },
      "cell_type": "code",
      "source": [
        "from IPython.display import clear_output, Image, display, HTML\n",
        "from io import BytesIO\n",
        "import scipy.misc\n",
        "import numpy as np\n",
        "import PIL.Image\n",
        "\n",
        "\n",
        "def load_image(path, h, w):\n",
        "    img0 = scipy.misc.imread(path, mode='RGB')\n",
        "    img0 = scipy.misc.imresize(img0, (h, w)).astype('float64')\n",
        "    return img0\n",
        "  \n",
        "def display_image(a, fmt='jpeg'):\n",
        "    a = np.uint8(np.clip(a/255., 0, 1)*255)\n",
        "    f = BytesIO()\n",
        "    PIL.Image.fromarray(a).save(f, fmt)\n",
        "    display(Image(data=f.getvalue()))\n"
      ],
      "execution_count": 0,
      "outputs": []
    },
    {
      "metadata": {
        "id": "px30nMavzqbX",
        "colab_type": "text"
      },
      "cell_type": "markdown",
      "source": [
        "Display a few results"
      ]
    },
    {
      "metadata": {
        "id": "7acyewVwd0QA",
        "colab_type": "code",
        "colab": {}
      },
      "cell_type": "code",
      "source": [
        "h = 512\n",
        "w = 512\n",
        "\n",
        "for i in range(20):\n",
        "  img0 = load_image(\"samples/test_arange_\" + str(i) + \".png\",h, w)\n",
        "  display_image(img0)\n"
      ],
      "execution_count": 0,
      "outputs": []
    },
    {
      "metadata": {
        "id": "-0ENEcnPzsrf",
        "colab_type": "text"
      },
      "cell_type": "markdown",
      "source": [
        "Move to the google drive"
      ]
    },
    {
      "metadata": {
        "id": "KcK_GH8eamPE",
        "colab_type": "code",
        "colab": {}
      },
      "cell_type": "code",
      "source": [
        "!mv samples/*.* /content/gdrive/My\\ Drive/pics\n"
      ],
      "execution_count": 0,
      "outputs": []
    }
  ]
}