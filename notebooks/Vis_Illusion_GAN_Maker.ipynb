{
  "nbformat": 4,
  "nbformat_minor": 0,
  "metadata": {
    "colab": {
      "name": "Vis Illusion GAN Maker.ipynb",
      "version": "0.3.2",
      "provenance": [],
      "collapsed_sections": [],
      "include_colab_link": true
    },
    "kernelspec": {
      "name": "python2",
      "display_name": "Python 2"
    },
    "accelerator": "GPU"
  },
  "cells": [
    {
      "cell_type": "markdown",
      "metadata": {
        "id": "view-in-github",
        "colab_type": "text"
      },
      "source": [
        "<a href=\"https://colab.research.google.com/github/kylemath/visual-illusions/blob/master/Vis_Illusion_GAN_Maker.ipynb\" target=\"_parent\"><img src=\"https://colab.research.google.com/assets/colab-badge.svg\" alt=\"Open In Colab\"/></a>"
      ]
    },
    {
      "metadata": {
        "id": "m0Y_bT016jAU",
        "colab_type": "text"
      },
      "cell_type": "markdown",
      "source": [
        "Mo Illusions dataset:\n",
        "https://drive.google.com/drive/u/0/folders/1R2626myKPLIcHksYDuKRTbROE77VGaj5"
      ]
    },
    {
      "metadata": {
        "id": "SrdqsJyRZ2NX",
        "colab_type": "text"
      },
      "cell_type": "markdown",
      "source": [
        "Scrape pics from google images\n"
      ]
    },
    {
      "metadata": {
        "id": "kEJ6raiVZ5EX",
        "colab_type": "code",
        "colab": {}
      },
      "cell_type": "code",
      "source": [
        "#!git clone https://github.com/montoyamoraga/scrapers.git"
      ],
      "execution_count": 0,
      "outputs": []
    },
    {
      "metadata": {
        "id": "nfbH8_CpS5N3",
        "colab_type": "code",
        "colab": {}
      },
      "cell_type": "code",
      "source": [
        "#!python3 script.py \"illusion\" 5000\n"
      ],
      "execution_count": 0,
      "outputs": []
    },
    {
      "metadata": {
        "id": "MJDywYYzzMm3",
        "colab_type": "text"
      },
      "cell_type": "markdown",
      "source": [
        "Scrape pics from Reddit"
      ]
    },
    {
      "metadata": {
        "id": "eAamSrQwiBmD",
        "colab_type": "code",
        "colab": {}
      },
      "cell_type": "code",
      "source": [
        "#ripme scrapper"
      ],
      "execution_count": 0,
      "outputs": []
    },
    {
      "metadata": {
        "id": "gw-HdupozPl8",
        "colab_type": "text"
      },
      "cell_type": "markdown",
      "source": [
        "Pre-process images for gan"
      ]
    },
    {
      "metadata": {
        "id": "5L4nX9gBTCV-",
        "colab_type": "code",
        "colab": {}
      },
      "cell_type": "code",
      "source": [
        "#!git clone https://github.com/genekogan/ml4a-guides"
      ],
      "execution_count": 0,
      "outputs": []
    },
    {
      "metadata": {
        "id": "YBflGvDFS5Zs",
        "colab_type": "code",
        "colab": {}
      },
      "cell_type": "code",
      "source": [
        "#python3 dataset_utils.py --input_src /Users/kylemathewson/scrapers/scraper-google-images/images_illusion/_jpg --shuffle --output_dir /Users/kylemathewson/scrapers/scraper-google-images/images_illusion/ --w 128 --h 128 --centered --action none --save_ext jpg --save_mode output_only\n"
      ],
      "execution_count": 0,
      "outputs": []
    },
    {
      "metadata": {
        "id": "0OlMRfgq3P5b",
        "colab_type": "text"
      },
      "cell_type": "markdown",
      "source": [
        "\n",
        "run above locally, zip file, upload to google directory, then unzip, this will move to parent folder after \n",
        "\n"
      ]
    },
    {
      "metadata": {
        "id": "xKQI_NXw3N3g",
        "colab_type": "code",
        "colab": {}
      },
      "cell_type": "code",
      "source": [
        "#!mv /content/gdrive/My\\ Drive/pics/prn2/jpgs/*.* /content/gdrive/My\\ Drive/pics/prn2/"
      ],
      "execution_count": 0,
      "outputs": []
    },
    {
      "metadata": {
        "id": "AVOIVLl1zWY6",
        "colab_type": "text"
      },
      "cell_type": "markdown",
      "source": [
        "Install DCGAN repo"
      ]
    },
    {
      "metadata": {
        "id": "REuKAVgQSfq4",
        "colab_type": "code",
        "outputId": "83c6bc3e-068d-4124-eaec-a8770457af93",
        "colab": {
          "base_uri": "https://localhost:8080/",
          "height": 51
        }
      },
      "cell_type": "code",
      "source": [
        "!git clone https://github.com/carpedm20/DCGAN-tensorflow\n",
        "%cd DCGAN-tensorflow\n"
      ],
      "execution_count": 0,
      "outputs": [
        {
          "output_type": "stream",
          "text": [
            "fatal: destination path 'DCGAN-tensorflow' already exists and is not an empty directory.\n",
            "/content/DCGAN-tensorflow\n"
          ],
          "name": "stdout"
        }
      ]
    },
    {
      "metadata": {
        "id": "R0Yx7Ss0zZD-",
        "colab_type": "text"
      },
      "cell_type": "markdown",
      "source": [
        "mount your google drive to load and save pics"
      ]
    },
    {
      "metadata": {
        "id": "TU7xd4O0Svbu",
        "colab_type": "code",
        "outputId": "eb5c3737-0f09-4c85-f670-36c96223b44e",
        "colab": {
          "base_uri": "https://localhost:8080/",
          "height": 34
        }
      },
      "cell_type": "code",
      "source": [
        "#mount google drive to load own images, follow link and get code and paste in below\n",
        "from google.colab import drive\n",
        "drive.mount('/content/gdrive', force_remount=True)\n",
        "path = \"/content/gdrive/My Drive/pics/\" #save images here"
      ],
      "execution_count": 0,
      "outputs": [
        {
          "output_type": "stream",
          "text": [
            "Mounted at /content/gdrive\n"
          ],
          "name": "stdout"
        }
      ]
    },
    {
      "metadata": {
        "id": "jlaAnBnizdCK",
        "colab_type": "text"
      },
      "cell_type": "markdown",
      "source": [
        "to save images"
      ]
    },
    {
      "metadata": {
        "id": "LhzQO-GXZdIk",
        "colab_type": "code",
        "outputId": "d8e6b161-678f-4d9d-c953-5cd15a49388b",
        "colab": {
          "base_uri": "https://localhost:8080/",
          "height": 34
        }
      },
      "cell_type": "code",
      "source": [
        "%mkdir samples\n",
        "\n"
      ],
      "execution_count": 0,
      "outputs": [
        {
          "output_type": "stream",
          "text": [
            "mkdir: cannot create directory ‘samples’: File exists\n"
          ],
          "name": "stdout"
        }
      ]
    },
    {
      "metadata": {
        "id": "LLFmOOpazgbs",
        "colab_type": "text"
      },
      "cell_type": "markdown",
      "source": [
        "Train the model (saves checkpoints)"
      ]
    },
    {
      "metadata": {
        "id": "YBJOxRFATUOt",
        "colab_type": "code",
        "colab": {}
      },
      "cell_type": "code",
      "source": [
        "!python main.py --dataset illusions --data_dir /content/gdrive/My\\ Drive/pics --input_height 128 --output_height 128 --checkpoint_dir /content/gdrive/My\\ Drive/pics --sample_dir /content/gdrive/My\\ Drive/pics --epoch 1 --train"
      ],
      "execution_count": 0,
      "outputs": []
    },
    {
      "metadata": {
        "id": "WXoXVn8-zlQH",
        "colab_type": "text"
      },
      "cell_type": "markdown",
      "source": [
        "to only generate:"
      ]
    },
    {
      "metadata": {
        "id": "Wal6gxNkTXZX",
        "colab_type": "code",
        "colab": {}
      },
      "cell_type": "code",
      "source": [
        "!python main.py --dataset illusions --data_dir /content/gdrive/My\\ Drive/pics --input_height 128 --output_height 128 --checkpoint_dir /content/gdrive/My\\ Drive/pics --sample_dir /content/gdrive/My\\ Drive/pics --epoch 1 "
      ],
      "execution_count": 0,
      "outputs": []
    },
    {
      "metadata": {
        "id": "se0DXChuzonO",
        "colab_type": "text"
      },
      "cell_type": "markdown",
      "source": [
        "Functions to display images"
      ]
    },
    {
      "metadata": {
        "id": "fmahUrBhdKqP",
        "colab_type": "code",
        "colab": {}
      },
      "cell_type": "code",
      "source": [
        "from IPython.display import clear_output, Image, display, HTML\n",
        "from io import BytesIO\n",
        "import scipy.misc\n",
        "import numpy as np\n",
        "import PIL.Image\n",
        "\n",
        "\n",
        "def load_image(path, h, w):\n",
        "    img0 = scipy.misc.imread(path, mode='RGB')\n",
        "    img0 = scipy.misc.imresize(img0, (h, w)).astype('float64')\n",
        "    return img0\n",
        "  \n",
        "def display_image(a, fmt='jpeg'):\n",
        "    a = np.uint8(np.clip(a/255., 0, 1)*255)\n",
        "    f = BytesIO()\n",
        "    PIL.Image.fromarray(a).save(f, fmt)\n",
        "    display(Image(data=f.getvalue()))\n"
      ],
      "execution_count": 0,
      "outputs": []
    },
    {
      "metadata": {
        "id": "px30nMavzqbX",
        "colab_type": "text"
      },
      "cell_type": "markdown",
      "source": [
        "Display a few results"
      ]
    },
    {
      "metadata": {
        "id": "7acyewVwd0QA",
        "colab_type": "code",
        "colab": {}
      },
      "cell_type": "code",
      "source": [
        "h = 512\n",
        "w = 512\n",
        "\n",
        "for i in range(3):\n",
        "  img0 = load_image(\"samples/test_arange_\" + str(i) + \".png\",h, w)\n",
        "  display_image(img0)\n"
      ],
      "execution_count": 0,
      "outputs": []
    },
    {
      "metadata": {
        "id": "-0ENEcnPzsrf",
        "colab_type": "text"
      },
      "cell_type": "markdown",
      "source": [
        "Move to the google drive"
      ]
    },
    {
      "metadata": {
        "id": "KcK_GH8eamPE",
        "colab_type": "code",
        "colab": {}
      },
      "cell_type": "code",
      "source": [
        "!mv samples/*.* /content/gdrive/My\\ Drive/pics\n"
      ],
      "execution_count": 0,
      "outputs": []
    }
  ]
}
