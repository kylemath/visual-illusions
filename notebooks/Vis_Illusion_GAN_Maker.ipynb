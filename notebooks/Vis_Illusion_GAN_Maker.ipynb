{
  "nbformat": 4,
  "nbformat_minor": 0,
  "metadata": {
    "colab": {
      "name": "Vis Illusion GAN Maker.ipynb",
      "version": "0.3.2",
      "provenance": [],
      "collapsed_sections": [],
      "include_colab_link": true
    },
    "kernelspec": {
      "name": "python2",
      "display_name": "Python 2"
    },
    "accelerator": "GPU"
  },
  "cells": [
    {
      "cell_type": "markdown",
      "metadata": {
        "id": "view-in-github",
        "colab_type": "text"
      },
      "source": [
        "<a href=\"https://colab.research.google.com/github/kylemath/visual-illusions/blob/master/notebooks/Vis_Illusion_GAN_Maker.ipynb\" target=\"_parent\"><img src=\"https://colab.research.google.com/assets/colab-badge.svg\" alt=\"Open In Colab\"/></a>"
      ]
    },
    {
      "metadata": {
        "id": "m0Y_bT016jAU",
        "colab_type": "text"
      },
      "cell_type": "markdown",
      "source": [
        "Mo Illusions dataset:\n",
        "https://drive.google.com/drive/u/0/folders/1R2626myKPLIcHksYDuKRTbROE77VGaj5"
      ]
    },
    {
      "metadata": {
        "id": "SrdqsJyRZ2NX",
        "colab_type": "text"
      },
      "cell_type": "markdown",
      "source": [
        "Scrape pics from google images\n"
      ]
    },
    {
      "metadata": {
        "id": "kEJ6raiVZ5EX",
        "colab_type": "code",
        "colab": {}
      },
      "cell_type": "code",
      "source": [
        "#!git clone https://github.com/montoyamoraga/scrapers.git"
      ],
      "execution_count": 0,
      "outputs": []
    },
    {
      "metadata": {
        "id": "nfbH8_CpS5N3",
        "colab_type": "code",
        "colab": {}
      },
      "cell_type": "code",
      "source": [
        "#!python3 script.py \"illusion\" 5000\n"
      ],
      "execution_count": 0,
      "outputs": []
    },
    {
      "metadata": {
        "id": "MJDywYYzzMm3",
        "colab_type": "text"
      },
      "cell_type": "markdown",
      "source": [
        "Scrape pics from Reddit"
      ]
    },
    {
      "metadata": {
        "id": "eAamSrQwiBmD",
        "colab_type": "code",
        "colab": {}
      },
      "cell_type": "code",
      "source": [
        "#ripme scrapper"
      ],
      "execution_count": 0,
      "outputs": []
    },
    {
      "metadata": {
        "id": "gw-HdupozPl8",
        "colab_type": "text"
      },
      "cell_type": "markdown",
      "source": [
        "Pre-process images for gan"
      ]
    },
    {
      "metadata": {
        "id": "5L4nX9gBTCV-",
        "colab_type": "code",
        "colab": {}
      },
      "cell_type": "code",
      "source": [
        "#!git clone https://github.com/genekogan/ml4a-guides"
      ],
      "execution_count": 0,
      "outputs": []
    },
    {
      "metadata": {
        "id": "YBflGvDFS5Zs",
        "colab_type": "code",
        "colab": {}
      },
      "cell_type": "code",
      "source": [
        "#python3 dataset_utils.py --input_src /Users/kylemathewson/scrapers/scraper-google-images/images_illusion/_jpg --shuffle --output_dir /Users/kylemathewson/scrapers/scraper-google-images/images_illusion/ --w 128 --h 128 --centered --action none --save_ext jpg --save_mode output_only\n"
      ],
      "execution_count": 0,
      "outputs": []
    },
    {
      "metadata": {
        "id": "AVOIVLl1zWY6",
        "colab_type": "text"
      },
      "cell_type": "markdown",
      "source": [
        "Install DCGAN repo"
      ]
    },
    {
      "metadata": {
        "id": "REuKAVgQSfq4",
        "colab_type": "code",
        "outputId": "95e085d2-6762-41c5-db8f-cae66eef2855",
        "colab": {
          "base_uri": "https://localhost:8080/",
          "height": 119
        }
      },
      "cell_type": "code",
      "source": [
        "!git clone https://github.com/carpedm20/DCGAN-tensorflow\n",
        "%cd DCGAN-tensorflow\n"
      ],
      "execution_count": 1,
      "outputs": [
        {
          "output_type": "stream",
          "text": [
            "Cloning into 'DCGAN-tensorflow'...\n",
            "remote: Enumerating objects: 1087, done.\u001b[K\n",
            "remote: Total 1087 (delta 0), reused 0 (delta 0), pack-reused 1087\u001b[K\n",
            "Receiving objects: 100% (1087/1087), 77.96 MiB | 30.76 MiB/s, done.\n",
            "Resolving deltas: 100% (612/612), done.\n",
            "/content/DCGAN-tensorflow\n"
          ],
          "name": "stdout"
        }
      ]
    },
    {
      "metadata": {
        "id": "R0Yx7Ss0zZD-",
        "colab_type": "text"
      },
      "cell_type": "markdown",
      "source": [
        "mount your google drive to load and save pics"
      ]
    },
    {
      "metadata": {
        "id": "TU7xd4O0Svbu",
        "colab_type": "code",
        "outputId": "2f62b588-798e-4c64-b5b9-6f6c7dfdbbde",
        "colab": {
          "base_uri": "https://localhost:8080/",
          "height": 122
        }
      },
      "cell_type": "code",
      "source": [
        "#mount google drive to load own images, follow link and get code and paste in below\n",
        "from google.colab import drive\n",
        "drive.mount('/content/gdrive', force_remount=True)\n",
        "path = \"/content/gdrive/My Drive/pics/\" #save images here"
      ],
      "execution_count": 2,
      "outputs": [
        {
          "output_type": "stream",
          "text": [
            "Go to this URL in a browser: https://accounts.google.com/o/oauth2/auth?client_id=947318989803-6bn6qk8qdgf4n4g3pfee6491hc0brc4i.apps.googleusercontent.com&redirect_uri=urn%3Aietf%3Awg%3Aoauth%3A2.0%3Aoob&scope=email%20https%3A%2F%2Fwww.googleapis.com%2Fauth%2Fdocs.test%20https%3A%2F%2Fwww.googleapis.com%2Fauth%2Fdrive%20https%3A%2F%2Fwww.googleapis.com%2Fauth%2Fdrive.photos.readonly%20https%3A%2F%2Fwww.googleapis.com%2Fauth%2Fpeopleapi.readonly&response_type=code\n",
            "\n",
            "Enter your authorization code:\n",
            "··········\n",
            "Mounted at /content/gdrive\n"
          ],
          "name": "stdout"
        }
      ]
    },
    {
      "metadata": {
        "id": "jlaAnBnizdCK",
        "colab_type": "text"
      },
      "cell_type": "markdown",
      "source": [
        "to save images"
      ]
    },
    {
      "metadata": {
        "id": "LhzQO-GXZdIk",
        "colab_type": "code",
        "colab": {}
      },
      "cell_type": "code",
      "source": [
        "%mkdir samples\n",
        "\n"
      ],
      "execution_count": 0,
      "outputs": []
    },
    {
      "metadata": {
        "id": "se0DXChuzonO",
        "colab_type": "text"
      },
      "cell_type": "markdown",
      "source": [
        "Functions to display images"
      ]
    },
    {
      "metadata": {
        "id": "fmahUrBhdKqP",
        "colab_type": "code",
        "colab": {}
      },
      "cell_type": "code",
      "source": [
        "from IPython.display import clear_output, Image, display, HTML\n",
        "from io import BytesIO\n",
        "import scipy.misc\n",
        "import numpy as np\n",
        "import PIL.Image\n",
        "\n",
        "\n",
        "def load_image(path, h, w):\n",
        "    img0 = scipy.misc.imread(path, mode='RGB')\n",
        "    img0 = scipy.misc.imresize(img0, (h, w)).astype('float64')\n",
        "    return img0\n",
        "  \n",
        "def display_image(a, fmt='jpeg'):\n",
        "    a = np.uint8(np.clip(a/255., 0, 1)*255)\n",
        "    f = BytesIO()\n",
        "    PIL.Image.fromarray(a).save(f, fmt)\n",
        "    display(Image(data=f.getvalue()))\n"
      ],
      "execution_count": 0,
      "outputs": []
    },
    {
      "metadata": {
        "id": "Lips0aULnmc2",
        "colab_type": "text"
      },
      "cell_type": "markdown",
      "source": [
        "Run a few training epochs and view results each time\n"
      ]
    },
    {
      "metadata": {
        "id": "jFMdHkpanp-4",
        "colab_type": "code",
        "colab": {
          "base_uri": "https://localhost:8080/",
          "height": 6067
        },
        "outputId": "738be31f-cd8b-43ed-f7f3-9b0d098f7404"
      },
      "cell_type": "code",
      "source": [
        "#output size for viewing\n",
        "h = 512 #make bigger to see in display\n",
        "w = 512\n",
        "\n",
        "for i_epoch in range(500):\n",
        "  !python main.py --dataset illusions --data_dir /content/gdrive/My\\ Drive/pics --input_height 128 --output_height 128 --checkpoint_dir /content/gdrive/My\\ Drive/pics --sample_dir /content/gdrive/My\\ Drive/pics --epoch 1 --train\n",
        "  #for i in range(3):\n",
        "  #  img0 = load_image(\"samples/test_arange_\" + str(i) + \".png\",h, w)\n",
        "  #  display_image(img0)\n"
      ],
      "execution_count": 0,
      "outputs": [
        {
          "output_type": "stream",
          "text": [
            "{'batch_size': <absl.flags._flag.Flag object at 0x7f07896ce090>,\n",
            " 'beta1': <absl.flags._flag.Flag object at 0x7f07896c1f50>,\n",
            " 'checkpoint_dir': <absl.flags._flag.Flag object at 0x7f07896ce410>,\n",
            " 'crop': <absl.flags._flag.BooleanFlag object at 0x7f07896ce590>,\n",
            " 'data_dir': <absl.flags._flag.Flag object at 0x7f07896ce490>,\n",
            " 'dataset': <absl.flags._flag.Flag object at 0x7f07896ce310>,\n",
            " 'epoch': <absl.flags._flag.Flag object at 0x7f0795a33a50>,\n",
            " 'generate_test_images': <absl.flags._flag.Flag object at 0x7f07896ce690>,\n",
            " 'h': <tensorflow.python.platform.app._HelpFlag object at 0x7f07896ce6d0>,\n",
            " 'help': <tensorflow.python.platform.app._HelpFlag object at 0x7f07896ce6d0>,\n",
            " 'helpfull': <tensorflow.python.platform.app._HelpfullFlag object at 0x7f07896ce710>,\n",
            " 'helpshort': <tensorflow.python.platform.app._HelpshortFlag object at 0x7f07896ce750>,\n",
            " 'input_fname_pattern': <absl.flags._flag.Flag object at 0x7f07896ce390>,\n",
            " 'input_height': <absl.flags._flag.Flag object at 0x7f07896ce110>,\n",
            " 'input_width': <absl.flags._flag.Flag object at 0x7f07896ce190>,\n",
            " 'learning_rate': <absl.flags._flag.Flag object at 0x7f0795a33b90>,\n",
            " 'output_height': <absl.flags._flag.Flag object at 0x7f07896ce210>,\n",
            " 'output_width': <absl.flags._flag.Flag object at 0x7f07896ce290>,\n",
            " 'sample_dir': <absl.flags._flag.Flag object at 0x7f07896ce510>,\n",
            " 'train': <absl.flags._flag.BooleanFlag object at 0x7f07896ce550>,\n",
            " 'train_size': <absl.flags._flag.Flag object at 0x7f07896c1fd0>,\n",
            " 'visualize': <absl.flags._flag.BooleanFlag object at 0x7f07896ce610>}\n",
            "2019-01-07 00:05:53.816146: I tensorflow/stream_executor/cuda/cuda_gpu_executor.cc:964] successful NUMA node read from SysFS had negative value (-1), but there must be at least one NUMA node, so returning NUMA node zero\n",
            "2019-01-07 00:05:53.816748: I tensorflow/core/common_runtime/gpu/gpu_device.cc:1432] Found device 0 with properties: \n",
            "name: Tesla K80 major: 3 minor: 7 memoryClockRate(GHz): 0.8235\n",
            "pciBusID: 0000:00:04.0\n",
            "totalMemory: 11.17GiB freeMemory: 11.10GiB\n",
            "2019-01-07 00:05:53.816807: I tensorflow/core/common_runtime/gpu/gpu_device.cc:1511] Adding visible gpu devices: 0\n",
            "2019-01-07 00:05:54.244592: I tensorflow/core/common_runtime/gpu/gpu_device.cc:982] Device interconnect StreamExecutor with strength 1 edge matrix:\n",
            "2019-01-07 00:05:54.244689: I tensorflow/core/common_runtime/gpu/gpu_device.cc:988]      0 \n",
            "2019-01-07 00:05:54.244717: I tensorflow/core/common_runtime/gpu/gpu_device.cc:1001] 0:   N \n",
            "2019-01-07 00:05:54.245105: I tensorflow/core/common_runtime/gpu/gpu_device.cc:1115] Created TensorFlow device (/job:localhost/replica:0/task:0/device:GPU:0 with 10758 MB memory) -> physical GPU (device: 0, name: Tesla K80, pci bus id: 0000:00:04.0, compute capability: 3.7)\n",
            "---------\n",
            "Variables: name (type shape) [size]\n",
            "---------\n",
            "generator/g_h0_lin/Matrix:0 (float32_ref 100x32768) [3276800, bytes: 13107200]\n",
            "generator/g_h0_lin/bias:0 (float32_ref 32768) [32768, bytes: 131072]\n",
            "generator/g_bn0/beta:0 (float32_ref 512) [512, bytes: 2048]\n",
            "generator/g_bn0/gamma:0 (float32_ref 512) [512, bytes: 2048]\n",
            "generator/g_h1/w:0 (float32_ref 5x5x256x512) [3276800, bytes: 13107200]\n",
            "generator/g_h1/biases:0 (float32_ref 256) [256, bytes: 1024]\n",
            "generator/g_bn1/beta:0 (float32_ref 256) [256, bytes: 1024]\n",
            "generator/g_bn1/gamma:0 (float32_ref 256) [256, bytes: 1024]\n",
            "generator/g_h2/w:0 (float32_ref 5x5x128x256) [819200, bytes: 3276800]\n",
            "generator/g_h2/biases:0 (float32_ref 128) [128, bytes: 512]\n",
            "generator/g_bn2/beta:0 (float32_ref 128) [128, bytes: 512]\n",
            "generator/g_bn2/gamma:0 (float32_ref 128) [128, bytes: 512]\n",
            "generator/g_h3/w:0 (float32_ref 5x5x64x128) [204800, bytes: 819200]\n",
            "generator/g_h3/biases:0 (float32_ref 64) [64, bytes: 256]\n",
            "generator/g_bn3/beta:0 (float32_ref 64) [64, bytes: 256]\n",
            "generator/g_bn3/gamma:0 (float32_ref 64) [64, bytes: 256]\n",
            "generator/g_h4/w:0 (float32_ref 5x5x3x64) [4800, bytes: 19200]\n",
            "generator/g_h4/biases:0 (float32_ref 3) [3, bytes: 12]\n",
            "discriminator/d_h0_conv/w:0 (float32_ref 5x5x3x64) [4800, bytes: 19200]\n",
            "discriminator/d_h0_conv/biases:0 (float32_ref 64) [64, bytes: 256]\n",
            "discriminator/d_h1_conv/w:0 (float32_ref 5x5x64x128) [204800, bytes: 819200]\n",
            "discriminator/d_h1_conv/biases:0 (float32_ref 128) [128, bytes: 512]\n",
            "discriminator/d_bn1/beta:0 (float32_ref 128) [128, bytes: 512]\n",
            "discriminator/d_bn1/gamma:0 (float32_ref 128) [128, bytes: 512]\n",
            "discriminator/d_h2_conv/w:0 (float32_ref 5x5x128x256) [819200, bytes: 3276800]\n",
            "discriminator/d_h2_conv/biases:0 (float32_ref 256) [256, bytes: 1024]\n",
            "discriminator/d_bn2/beta:0 (float32_ref 256) [256, bytes: 1024]\n",
            "discriminator/d_bn2/gamma:0 (float32_ref 256) [256, bytes: 1024]\n",
            "discriminator/d_h3_conv/w:0 (float32_ref 5x5x256x512) [3276800, bytes: 13107200]\n",
            "discriminator/d_h3_conv/biases:0 (float32_ref 512) [512, bytes: 2048]\n",
            "discriminator/d_bn3/beta:0 (float32_ref 512) [512, bytes: 2048]\n",
            "discriminator/d_bn3/gamma:0 (float32_ref 512) [512, bytes: 2048]\n",
            "discriminator/d_h4_lin/Matrix:0 (float32_ref 32768x1) [32768, bytes: 131072]\n",
            "discriminator/d_h4_lin/bias:0 (float32_ref 1) [1, bytes: 4]\n",
            "Total size of variables: 11958660\n",
            "Total bytes of variables: 47834640\n",
            " [*] Reading checkpoints...\n",
            " [*] Failed to find a checkpoint\n",
            " [!] Load failed...\n",
            "Epoch: [ 0/ 1] [   0/  95] time: 33.6417, d_loss: 11.89161396, g_loss: 0.00002024\n",
            "Epoch: [ 0/ 1] [   1/  95] time: 55.5176, d_loss: 14.52616596, g_loss: 0.00000276\n",
            "Epoch: [ 0/ 1] [   2/  95] time: 72.5589, d_loss: 12.66359615, g_loss: 0.00001432\n",
            "Epoch: [ 0/ 1] [   3/  95] time: 90.1214, d_loss: 12.61142254, g_loss: 0.00001881\n",
            "Epoch: [ 0/ 1] [   4/  95] time: 108.0368, d_loss: 12.49896717, g_loss: 0.00002327\n",
            "Epoch: [ 0/ 1] [   5/  95] time: 128.1650, d_loss: 12.00334740, g_loss: 0.00002641\n",
            "Epoch: [ 0/ 1] [   6/  95] time: 148.2926, d_loss: 12.72324181, g_loss: 0.00001213\n",
            "Epoch: [ 0/ 1] [   7/  95] time: 164.8433, d_loss: 14.78936386, g_loss: 0.00000269\n",
            "Epoch: [ 0/ 1] [   8/  95] time: 183.6312, d_loss: 22.02077866, g_loss: 0.00000001\n",
            "Epoch: [ 0/ 1] [   9/  95] time: 201.3283, d_loss: 23.26476479, g_loss: 0.00000001\n",
            "Epoch: [ 0/ 1] [  10/  95] time: 220.1086, d_loss: 21.57938576, g_loss: 0.00000020\n",
            "Epoch: [ 0/ 1] [  11/  95] time: 238.9447, d_loss: 21.77090836, g_loss: 0.00000005\n",
            "Epoch: [ 0/ 1] [  12/  95] time: 255.3984, d_loss: 18.46217346, g_loss: 0.00000159\n",
            "Epoch: [ 0/ 1] [  13/  95] time: 271.6309, d_loss: 14.05566788, g_loss: 0.00013054\n",
            "Traceback (most recent call last):\n",
            "  File \"main.py\", line 103, in <module>\n",
            "    tf.app.run()\n",
            "  File \"/usr/local/lib/python2.7/dist-packages/tensorflow/python/platform/app.py\", line 125, in run\n",
            "    _sys.exit(main(argv))\n",
            "  File \"main.py\", line 86, in main\n",
            "    dcgan.train(FLAGS)\n",
            "  File \"/content/DCGAN-tensorflow/model.py\", line 220, in train\n",
            "    grayscale=self.grayscale) for batch_file in batch_files]\n",
            "  File \"/content/DCGAN-tensorflow/utils.py\", line 28, in get_image\n",
            "    image = imread(image_path, grayscale)\n",
            "  File \"/content/DCGAN-tensorflow/utils.py\", line 39, in imread\n",
            "    return scipy.misc.imread(path).astype(np.float)\n",
            "  File \"/usr/local/lib/python2.7/dist-packages/numpy/lib/utils.py\", line 101, in newfunc\n",
            "    return func(*args, **kwds)\n",
            "  File \"/usr/local/lib/python2.7/dist-packages/scipy/misc/pilutil.py\", line 164, in imread\n",
            "    im = Image.open(name)\n",
            "  File \"/usr/local/lib/python2.7/dist-packages/PIL/Image.py\", line 2319, in open\n",
            "    prefix = fp.read(16)\n",
            "KeyboardInterrupt\n",
            "{'batch_size': <absl.flags._flag.Flag object at 0x7f3db1715090>,\n",
            " 'beta1': <absl.flags._flag.Flag object at 0x7f3db1708f50>,\n",
            " 'checkpoint_dir': <absl.flags._flag.Flag object at 0x7f3db1715410>,\n",
            " 'crop': <absl.flags._flag.BooleanFlag object at 0x7f3db1715590>,\n",
            " 'data_dir': <absl.flags._flag.Flag object at 0x7f3db1715490>,\n",
            " 'dataset': <absl.flags._flag.Flag object at 0x7f3db1715310>,\n",
            " 'epoch': <absl.flags._flag.Flag object at 0x7f3dbda7aa50>,\n",
            " 'generate_test_images': <absl.flags._flag.Flag object at 0x7f3db1715690>,\n",
            " 'h': <tensorflow.python.platform.app._HelpFlag object at 0x7f3db17156d0>,\n",
            " 'help': <tensorflow.python.platform.app._HelpFlag object at 0x7f3db17156d0>,\n",
            " 'helpfull': <tensorflow.python.platform.app._HelpfullFlag object at 0x7f3db1715710>,\n",
            " 'helpshort': <tensorflow.python.platform.app._HelpshortFlag object at 0x7f3db1715750>,\n",
            " 'input_fname_pattern': <absl.flags._flag.Flag object at 0x7f3db1715390>,\n",
            " 'input_height': <absl.flags._flag.Flag object at 0x7f3db1715110>,\n",
            " 'input_width': <absl.flags._flag.Flag object at 0x7f3db1715190>,\n",
            " 'learning_rate': <absl.flags._flag.Flag object at 0x7f3dbda7ab90>,\n",
            " 'output_height': <absl.flags._flag.Flag object at 0x7f3db1715210>,\n",
            " 'output_width': <absl.flags._flag.Flag object at 0x7f3db1715290>,\n",
            " 'sample_dir': <absl.flags._flag.Flag object at 0x7f3db1715510>,\n",
            " 'train': <absl.flags._flag.BooleanFlag object at 0x7f3db1715550>,\n",
            " 'train_size': <absl.flags._flag.Flag object at 0x7f3db1708fd0>,\n",
            " 'visualize': <absl.flags._flag.BooleanFlag object at 0x7f3db1715610>}\n",
            "2019-01-07 00:11:02.661999: I tensorflow/stream_executor/cuda/cuda_gpu_executor.cc:964] successful NUMA node read from SysFS had negative value (-1), but there must be at least one NUMA node, so returning NUMA node zero\n",
            "2019-01-07 00:11:02.662497: I tensorflow/core/common_runtime/gpu/gpu_device.cc:1432] Found device 0 with properties: \n",
            "name: Tesla K80 major: 3 minor: 7 memoryClockRate(GHz): 0.8235\n",
            "pciBusID: 0000:00:04.0\n",
            "totalMemory: 11.17GiB freeMemory: 11.10GiB\n",
            "2019-01-07 00:11:02.662542: I tensorflow/core/common_runtime/gpu/gpu_device.cc:1511] Adding visible gpu devices: 0\n",
            "2019-01-07 00:11:03.089253: I tensorflow/core/common_runtime/gpu/gpu_device.cc:982] Device interconnect StreamExecutor with strength 1 edge matrix:\n",
            "2019-01-07 00:11:03.089339: I tensorflow/core/common_runtime/gpu/gpu_device.cc:988]      0 \n",
            "2019-01-07 00:11:03.089370: I tensorflow/core/common_runtime/gpu/gpu_device.cc:1001] 0:   N \n",
            "2019-01-07 00:11:03.089722: I tensorflow/core/common_runtime/gpu/gpu_device.cc:1115] Created TensorFlow device (/job:localhost/replica:0/task:0/device:GPU:0 with 10758 MB memory) -> physical GPU (device: 0, name: Tesla K80, pci bus id: 0000:00:04.0, compute capability: 3.7)\n",
            "---------\n",
            "Variables: name (type shape) [size]\n",
            "---------\n",
            "generator/g_h0_lin/Matrix:0 (float32_ref 100x32768) [3276800, bytes: 13107200]\n",
            "generator/g_h0_lin/bias:0 (float32_ref 32768) [32768, bytes: 131072]\n",
            "generator/g_bn0/beta:0 (float32_ref 512) [512, bytes: 2048]\n",
            "generator/g_bn0/gamma:0 (float32_ref 512) [512, bytes: 2048]\n",
            "generator/g_h1/w:0 (float32_ref 5x5x256x512) [3276800, bytes: 13107200]\n",
            "generator/g_h1/biases:0 (float32_ref 256) [256, bytes: 1024]\n",
            "generator/g_bn1/beta:0 (float32_ref 256) [256, bytes: 1024]\n",
            "generator/g_bn1/gamma:0 (float32_ref 256) [256, bytes: 1024]\n",
            "generator/g_h2/w:0 (float32_ref 5x5x128x256) [819200, bytes: 3276800]\n",
            "generator/g_h2/biases:0 (float32_ref 128) [128, bytes: 512]\n",
            "generator/g_bn2/beta:0 (float32_ref 128) [128, bytes: 512]\n",
            "generator/g_bn2/gamma:0 (float32_ref 128) [128, bytes: 512]\n",
            "generator/g_h3/w:0 (float32_ref 5x5x64x128) [204800, bytes: 819200]\n",
            "generator/g_h3/biases:0 (float32_ref 64) [64, bytes: 256]\n",
            "generator/g_bn3/beta:0 (float32_ref 64) [64, bytes: 256]\n",
            "generator/g_bn3/gamma:0 (float32_ref 64) [64, bytes: 256]\n",
            "generator/g_h4/w:0 (float32_ref 5x5x3x64) [4800, bytes: 19200]\n",
            "generator/g_h4/biases:0 (float32_ref 3) [3, bytes: 12]\n",
            "discriminator/d_h0_conv/w:0 (float32_ref 5x5x3x64) [4800, bytes: 19200]\n",
            "discriminator/d_h0_conv/biases:0 (float32_ref 64) [64, bytes: 256]\n",
            "discriminator/d_h1_conv/w:0 (float32_ref 5x5x64x128) [204800, bytes: 819200]\n",
            "discriminator/d_h1_conv/biases:0 (float32_ref 128) [128, bytes: 512]\n",
            "discriminator/d_bn1/beta:0 (float32_ref 128) [128, bytes: 512]\n",
            "discriminator/d_bn1/gamma:0 (float32_ref 128) [128, bytes: 512]\n",
            "discriminator/d_h2_conv/w:0 (float32_ref 5x5x128x256) [819200, bytes: 3276800]\n",
            "discriminator/d_h2_conv/biases:0 (float32_ref 256) [256, bytes: 1024]\n",
            "discriminator/d_bn2/beta:0 (float32_ref 256) [256, bytes: 1024]\n",
            "discriminator/d_bn2/gamma:0 (float32_ref 256) [256, bytes: 1024]\n",
            "discriminator/d_h3_conv/w:0 (float32_ref 5x5x256x512) [3276800, bytes: 13107200]\n",
            "discriminator/d_h3_conv/biases:0 (float32_ref 512) [512, bytes: 2048]\n",
            "discriminator/d_bn3/beta:0 (float32_ref 512) [512, bytes: 2048]\n",
            "discriminator/d_bn3/gamma:0 (float32_ref 512) [512, bytes: 2048]\n",
            "discriminator/d_h4_lin/Matrix:0 (float32_ref 32768x1) [32768, bytes: 131072]\n",
            "discriminator/d_h4_lin/bias:0 (float32_ref 1) [1, bytes: 4]\n",
            "Total size of variables: 11958660\n",
            "Total bytes of variables: 47834640\n",
            "Traceback (most recent call last):\n",
            "  File \"main.py\", line 103, in <module>\n",
            "    tf.app.run()\n",
            "  File \"/usr/local/lib/python2.7/dist-packages/tensorflow/python/platform/app.py\", line 125, in run\n",
            "    _sys.exit(main(argv))\n",
            "  File \"main.py\", line 86, in main\n",
            "    dcgan.train(FLAGS)\n",
            "  File \"/content/DCGAN-tensorflow/model.py\", line 183, in train\n",
            "    grayscale=self.grayscale) for sample_file in sample_files]\n",
            "  File \"/content/DCGAN-tensorflow/utils.py\", line 28, in get_image\n",
            "    image = imread(image_path, grayscale)\n",
            "  File \"/content/DCGAN-tensorflow/utils.py\", line 39, in imread\n",
            "    return scipy.misc.imread(path).astype(np.float)\n",
            "  File \"/usr/local/lib/python2.7/dist-packages/numpy/lib/utils.py\", line 101, in newfunc\n",
            "    return func(*args, **kwds)\n",
            "  File \"/usr/local/lib/python2.7/dist-packages/scipy/misc/pilutil.py\", line 164, in imread\n",
            "    im = Image.open(name)\n",
            "  File \"/usr/local/lib/python2.7/dist-packages/PIL/Image.py\", line 2319, in open\n",
            "    prefix = fp.read(16)\n",
            "KeyboardInterrupt\n",
            "{'batch_size': <absl.flags._flag.Flag object at 0x7f1e38067090>,\n",
            " 'beta1': <absl.flags._flag.Flag object at 0x7f1e3805af50>,\n",
            " 'checkpoint_dir': <absl.flags._flag.Flag object at 0x7f1e38067410>,\n",
            " 'crop': <absl.flags._flag.BooleanFlag object at 0x7f1e38067590>,\n",
            " 'data_dir': <absl.flags._flag.Flag object at 0x7f1e38067490>,\n",
            " 'dataset': <absl.flags._flag.Flag object at 0x7f1e38067310>,\n",
            " 'epoch': <absl.flags._flag.Flag object at 0x7f1e443cca50>,\n",
            " 'generate_test_images': <absl.flags._flag.Flag object at 0x7f1e38067690>,\n",
            " 'h': <tensorflow.python.platform.app._HelpFlag object at 0x7f1e380676d0>,\n",
            " 'help': <tensorflow.python.platform.app._HelpFlag object at 0x7f1e380676d0>,\n",
            " 'helpfull': <tensorflow.python.platform.app._HelpfullFlag object at 0x7f1e38067710>,\n",
            " 'helpshort': <tensorflow.python.platform.app._HelpshortFlag object at 0x7f1e38067750>,\n",
            " 'input_fname_pattern': <absl.flags._flag.Flag object at 0x7f1e38067390>,\n",
            " 'input_height': <absl.flags._flag.Flag object at 0x7f1e38067110>,\n",
            " 'input_width': <absl.flags._flag.Flag object at 0x7f1e38067190>,\n",
            " 'learning_rate': <absl.flags._flag.Flag object at 0x7f1e443ccb90>,\n",
            " 'output_height': <absl.flags._flag.Flag object at 0x7f1e38067210>,\n",
            " 'output_width': <absl.flags._flag.Flag object at 0x7f1e38067290>,\n",
            " 'sample_dir': <absl.flags._flag.Flag object at 0x7f1e38067510>,\n",
            " 'train': <absl.flags._flag.BooleanFlag object at 0x7f1e38067550>,\n",
            " 'train_size': <absl.flags._flag.Flag object at 0x7f1e3805afd0>,\n",
            " 'visualize': <absl.flags._flag.BooleanFlag object at 0x7f1e38067610>}\n",
            "2019-01-07 00:11:17.593525: I tensorflow/stream_executor/cuda/cuda_gpu_executor.cc:964] successful NUMA node read from SysFS had negative value (-1), but there must be at least one NUMA node, so returning NUMA node zero\n",
            "2019-01-07 00:11:17.594003: I tensorflow/core/common_runtime/gpu/gpu_device.cc:1432] Found device 0 with properties: \n",
            "name: Tesla K80 major: 3 minor: 7 memoryClockRate(GHz): 0.8235\n",
            "pciBusID: 0000:00:04.0\n",
            "totalMemory: 11.17GiB freeMemory: 11.10GiB\n",
            "2019-01-07 00:11:17.594066: I tensorflow/core/common_runtime/gpu/gpu_device.cc:1511] Adding visible gpu devices: 0\n",
            "2019-01-07 00:11:18.017049: I tensorflow/core/common_runtime/gpu/gpu_device.cc:982] Device interconnect StreamExecutor with strength 1 edge matrix:\n",
            "2019-01-07 00:11:18.017120: I tensorflow/core/common_runtime/gpu/gpu_device.cc:988]      0 \n",
            "2019-01-07 00:11:18.017148: I tensorflow/core/common_runtime/gpu/gpu_device.cc:1001] 0:   N \n",
            "2019-01-07 00:11:18.017508: I tensorflow/core/common_runtime/gpu/gpu_device.cc:1115] Created TensorFlow device (/job:localhost/replica:0/task:0/device:GPU:0 with 10758 MB memory) -> physical GPU (device: 0, name: Tesla K80, pci bus id: 0000:00:04.0, compute capability: 3.7)\n",
            "---------\n",
            "Variables: name (type shape) [size]\n",
            "---------\n",
            "generator/g_h0_lin/Matrix:0 (float32_ref 100x32768) [3276800, bytes: 13107200]\n",
            "generator/g_h0_lin/bias:0 (float32_ref 32768) [32768, bytes: 131072]\n",
            "generator/g_bn0/beta:0 (float32_ref 512) [512, bytes: 2048]\n",
            "generator/g_bn0/gamma:0 (float32_ref 512) [512, bytes: 2048]\n",
            "generator/g_h1/w:0 (float32_ref 5x5x256x512) [3276800, bytes: 13107200]\n",
            "generator/g_h1/biases:0 (float32_ref 256) [256, bytes: 1024]\n",
            "generator/g_bn1/beta:0 (float32_ref 256) [256, bytes: 1024]\n",
            "generator/g_bn1/gamma:0 (float32_ref 256) [256, bytes: 1024]\n",
            "generator/g_h2/w:0 (float32_ref 5x5x128x256) [819200, bytes: 3276800]\n",
            "generator/g_h2/biases:0 (float32_ref 128) [128, bytes: 512]\n",
            "generator/g_bn2/beta:0 (float32_ref 128) [128, bytes: 512]\n",
            "generator/g_bn2/gamma:0 (float32_ref 128) [128, bytes: 512]\n",
            "generator/g_h3/w:0 (float32_ref 5x5x64x128) [204800, bytes: 819200]\n",
            "generator/g_h3/biases:0 (float32_ref 64) [64, bytes: 256]\n",
            "generator/g_bn3/beta:0 (float32_ref 64) [64, bytes: 256]\n",
            "generator/g_bn3/gamma:0 (float32_ref 64) [64, bytes: 256]\n",
            "generator/g_h4/w:0 (float32_ref 5x5x3x64) [4800, bytes: 19200]\n",
            "generator/g_h4/biases:0 (float32_ref 3) [3, bytes: 12]\n",
            "discriminator/d_h0_conv/w:0 (float32_ref 5x5x3x64) [4800, bytes: 19200]\n",
            "discriminator/d_h0_conv/biases:0 (float32_ref 64) [64, bytes: 256]\n",
            "discriminator/d_h1_conv/w:0 (float32_ref 5x5x64x128) [204800, bytes: 819200]\n",
            "discriminator/d_h1_conv/biases:0 (float32_ref 128) [128, bytes: 512]\n",
            "discriminator/d_bn1/beta:0 (float32_ref 128) [128, bytes: 512]\n",
            "discriminator/d_bn1/gamma:0 (float32_ref 128) [128, bytes: 512]\n",
            "discriminator/d_h2_conv/w:0 (float32_ref 5x5x128x256) [819200, bytes: 3276800]\n",
            "discriminator/d_h2_conv/biases:0 (float32_ref 256) [256, bytes: 1024]\n",
            "discriminator/d_bn2/beta:0 (float32_ref 256) [256, bytes: 1024]\n",
            "discriminator/d_bn2/gamma:0 (float32_ref 256) [256, bytes: 1024]\n",
            "discriminator/d_h3_conv/w:0 (float32_ref 5x5x256x512) [3276800, bytes: 13107200]\n",
            "discriminator/d_h3_conv/biases:0 (float32_ref 512) [512, bytes: 2048]\n",
            "discriminator/d_bn3/beta:0 (float32_ref 512) [512, bytes: 2048]\n",
            "discriminator/d_bn3/gamma:0 (float32_ref 512) [512, bytes: 2048]\n",
            "discriminator/d_h4_lin/Matrix:0 (float32_ref 32768x1) [32768, bytes: 131072]\n",
            "discriminator/d_h4_lin/bias:0 (float32_ref 1) [1, bytes: 4]\n",
            "Total size of variables: 11958660\n",
            "Total bytes of variables: 47834640\n",
            "Traceback (most recent call last):\n",
            "  File \"main.py\", line 103, in <module>\n",
            "    tf.app.run()\n",
            "  File \"/usr/local/lib/python2.7/dist-packages/tensorflow/python/platform/app.py\", line 125, in run\n",
            "    _sys.exit(main(argv))\n",
            "  File \"main.py\", line 100, in main\n",
            "    visualize(sess, dcgan, FLAGS, OPTION)\n",
            "  File \"/usr/local/lib/python2.7/dist-packages/tensorflow/python/client/session.py\", line 1592, in __exit__\n",
            "    self.close()\n",
            "  File \"/usr/local/lib/python2.7/dist-packages/tensorflow/python/client/session.py\", line 728, in close\n",
            "    tf_session.TF_CloseSession(self._session)\n",
            "KeyboardInterrupt\n",
            "{'batch_size': <absl.flags._flag.Flag object at 0x7f96365d9090>,\n",
            " 'beta1': <absl.flags._flag.Flag object at 0x7f96365ccf50>,\n",
            " 'checkpoint_dir': <absl.flags._flag.Flag object at 0x7f96365d9410>,\n",
            " 'crop': <absl.flags._flag.BooleanFlag object at 0x7f96365d9590>,\n",
            " 'data_dir': <absl.flags._flag.Flag object at 0x7f96365d9490>,\n",
            " 'dataset': <absl.flags._flag.Flag object at 0x7f96365d9310>,\n",
            " 'epoch': <absl.flags._flag.Flag object at 0x7f964293ea50>,\n",
            " 'generate_test_images': <absl.flags._flag.Flag object at 0x7f96365d9690>,\n",
            " 'h': <tensorflow.python.platform.app._HelpFlag object at 0x7f96365d96d0>,\n",
            " 'help': <tensorflow.python.platform.app._HelpFlag object at 0x7f96365d96d0>,\n",
            " 'helpfull': <tensorflow.python.platform.app._HelpfullFlag object at 0x7f96365d9710>,\n",
            " 'helpshort': <tensorflow.python.platform.app._HelpshortFlag object at 0x7f96365d9750>,\n",
            " 'input_fname_pattern': <absl.flags._flag.Flag object at 0x7f96365d9390>,\n",
            " 'input_height': <absl.flags._flag.Flag object at 0x7f96365d9110>,\n",
            " 'input_width': <absl.flags._flag.Flag object at 0x7f96365d9190>,\n",
            " 'learning_rate': <absl.flags._flag.Flag object at 0x7f964293eb90>,\n",
            " 'output_height': <absl.flags._flag.Flag object at 0x7f96365d9210>,\n",
            " 'output_width': <absl.flags._flag.Flag object at 0x7f96365d9290>,\n",
            " 'sample_dir': <absl.flags._flag.Flag object at 0x7f96365d9510>,\n",
            " 'train': <absl.flags._flag.BooleanFlag object at 0x7f96365d9550>,\n",
            " 'train_size': <absl.flags._flag.Flag object at 0x7f96365ccfd0>,\n",
            " 'visualize': <absl.flags._flag.BooleanFlag object at 0x7f96365d9610>}\n",
            "2019-01-07 00:11:26.058096: I tensorflow/stream_executor/cuda/cuda_gpu_executor.cc:964] successful NUMA node read from SysFS had negative value (-1), but there must be at least one NUMA node, so returning NUMA node zero\n",
            "2019-01-07 00:11:26.058561: I tensorflow/core/common_runtime/gpu/gpu_device.cc:1432] Found device 0 with properties: \n",
            "name: Tesla K80 major: 3 minor: 7 memoryClockRate(GHz): 0.8235\n",
            "pciBusID: 0000:00:04.0\n",
            "totalMemory: 11.17GiB freeMemory: 11.10GiB\n",
            "2019-01-07 00:11:26.058619: I tensorflow/core/common_runtime/gpu/gpu_device.cc:1511] Adding visible gpu devices: 0\n",
            "2019-01-07 00:11:26.476002: I tensorflow/core/common_runtime/gpu/gpu_device.cc:982] Device interconnect StreamExecutor with strength 1 edge matrix:\n",
            "2019-01-07 00:11:26.476113: I tensorflow/core/common_runtime/gpu/gpu_device.cc:988]      0 \n",
            "2019-01-07 00:11:26.476137: I tensorflow/core/common_runtime/gpu/gpu_device.cc:1001] 0:   N \n",
            "2019-01-07 00:11:26.476487: I tensorflow/core/common_runtime/gpu/gpu_device.cc:1115] Created TensorFlow device (/job:localhost/replica:0/task:0/device:GPU:0 with 10758 MB memory) -> physical GPU (device: 0, name: Tesla K80, pci bus id: 0000:00:04.0, compute capability: 3.7)\n",
            "---------\n",
            "Variables: name (type shape) [size]\n",
            "---------\n",
            "generator/g_h0_lin/Matrix:0 (float32_ref 100x32768) [3276800, bytes: 13107200]\n",
            "generator/g_h0_lin/bias:0 (float32_ref 32768) [32768, bytes: 131072]\n",
            "generator/g_bn0/beta:0 (float32_ref 512) [512, bytes: 2048]\n",
            "generator/g_bn0/gamma:0 (float32_ref 512) [512, bytes: 2048]\n",
            "generator/g_h1/w:0 (float32_ref 5x5x256x512) [3276800, bytes: 13107200]\n",
            "generator/g_h1/biases:0 (float32_ref 256) [256, bytes: 1024]\n",
            "generator/g_bn1/beta:0 (float32_ref 256) [256, bytes: 1024]\n",
            "generator/g_bn1/gamma:0 (float32_ref 256) [256, bytes: 1024]\n",
            "generator/g_h2/w:0 (float32_ref 5x5x128x256) [819200, bytes: 3276800]\n",
            "generator/g_h2/biases:0 (float32_ref 128) [128, bytes: 512]\n",
            "generator/g_bn2/beta:0 (float32_ref 128) [128, bytes: 512]\n",
            "generator/g_bn2/gamma:0 (float32_ref 128) [128, bytes: 512]\n",
            "generator/g_h3/w:0 (float32_ref 5x5x64x128) [204800, bytes: 819200]\n",
            "generator/g_h3/biases:0 (float32_ref 64) [64, bytes: 256]\n",
            "generator/g_bn3/beta:0 (float32_ref 64) [64, bytes: 256]\n",
            "generator/g_bn3/gamma:0 (float32_ref 64) [64, bytes: 256]\n",
            "generator/g_h4/w:0 (float32_ref 5x5x3x64) [4800, bytes: 19200]\n",
            "generator/g_h4/biases:0 (float32_ref 3) [3, bytes: 12]\n",
            "discriminator/d_h0_conv/w:0 (float32_ref 5x5x3x64) [4800, bytes: 19200]\n",
            "discriminator/d_h0_conv/biases:0 (float32_ref 64) [64, bytes: 256]\n",
            "discriminator/d_h1_conv/w:0 (float32_ref 5x5x64x128) [204800, bytes: 819200]\n",
            "discriminator/d_h1_conv/biases:0 (float32_ref 128) [128, bytes: 512]\n",
            "discriminator/d_bn1/beta:0 (float32_ref 128) [128, bytes: 512]\n",
            "discriminator/d_bn1/gamma:0 (float32_ref 128) [128, bytes: 512]\n",
            "discriminator/d_h2_conv/w:0 (float32_ref 5x5x128x256) [819200, bytes: 3276800]\n",
            "discriminator/d_h2_conv/biases:0 (float32_ref 256) [256, bytes: 1024]\n",
            "discriminator/d_bn2/beta:0 (float32_ref 256) [256, bytes: 1024]\n",
            "discriminator/d_bn2/gamma:0 (float32_ref 256) [256, bytes: 1024]\n",
            "discriminator/d_h3_conv/w:0 (float32_ref 5x5x256x512) [3276800, bytes: 13107200]\n",
            "discriminator/d_h3_conv/biases:0 (float32_ref 512) [512, bytes: 2048]\n",
            "discriminator/d_bn3/beta:0 (float32_ref 512) [512, bytes: 2048]\n",
            "discriminator/d_bn3/gamma:0 (float32_ref 512) [512, bytes: 2048]\n",
            "discriminator/d_h4_lin/Matrix:0 (float32_ref 32768x1) [32768, bytes: 131072]\n",
            "discriminator/d_h4_lin/bias:0 (float32_ref 1) [1, bytes: 4]\n",
            "Total size of variables: 11958660\n",
            "Total bytes of variables: 47834640\n"
          ],
          "name": "stdout"
        }
      ]
    },
    {
      "metadata": {
        "id": "LLFmOOpazgbs",
        "colab_type": "text"
      },
      "cell_type": "markdown",
      "source": [
        "Train the model (saves checkpoints)"
      ]
    },
    {
      "metadata": {
        "id": "YBJOxRFATUOt",
        "colab_type": "code",
        "colab": {}
      },
      "cell_type": "code",
      "source": [
        "!python main.py --dataset illusions --data_dir /content/gdrive/My\\ Drive/pics --input_height 128 --output_height 128 --checkpoint_dir /content/gdrive/My\\ Drive/pics --sample_dir /content/gdrive/My\\ Drive/pics --epoch 1 --train"
      ],
      "execution_count": 0,
      "outputs": []
    },
    {
      "metadata": {
        "id": "WXoXVn8-zlQH",
        "colab_type": "text"
      },
      "cell_type": "markdown",
      "source": [
        "to only generate:"
      ]
    },
    {
      "metadata": {
        "id": "Wal6gxNkTXZX",
        "colab_type": "code",
        "colab": {}
      },
      "cell_type": "code",
      "source": [
        "!python main.py --dataset illusions --data_dir /content/gdrive/My\\ Drive/pics --input_height 128 --output_height 128 --checkpoint_dir /content/gdrive/My\\ Drive/pics --sample_dir /content/gdrive/My\\ Drive/pics --epoch 1 "
      ],
      "execution_count": 0,
      "outputs": []
    },
    {
      "metadata": {
        "id": "-0ENEcnPzsrf",
        "colab_type": "text"
      },
      "cell_type": "markdown",
      "source": [
        "Move to the google drive"
      ]
    },
    {
      "metadata": {
        "id": "KcK_GH8eamPE",
        "colab_type": "code",
        "colab": {}
      },
      "cell_type": "code",
      "source": [
        "!mv samples/*.* /content/gdrive/My\\ Drive/pics\n"
      ],
      "execution_count": 0,
      "outputs": []
    },
    {
      "metadata": {
        "id": "px30nMavzqbX",
        "colab_type": "text"
      },
      "cell_type": "markdown",
      "source": [
        "Display a few results"
      ]
    },
    {
      "metadata": {
        "id": "7acyewVwd0QA",
        "colab_type": "code",
        "colab": {}
      },
      "cell_type": "code",
      "source": [
        "h = 512\n",
        "w = 512\n",
        "\n",
        "for i in range(3):\n",
        "  img0 = load_image(\"samples/test_arange_\" + str(i) + \".png\",h, w)\n",
        "  display_image(img0)\n"
      ],
      "execution_count": 0,
      "outputs": []
    }
  ]
}